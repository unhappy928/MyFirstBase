{
 "cells": [
  {
   "cell_type": "code",
   "execution_count": 1,
   "id": "d942d019",
   "metadata": {},
   "outputs": [
    {
     "name": "stdout",
     "output_type": "stream",
     "text": [
      "误差为:\n",
      " [[ 0.5       ]\n",
      " [ 0.43175534]\n",
      " [-0.23762817]\n",
      " [-0.2689864 ]]\n",
      "相关系数为:\n",
      " [[-0.10307695]\n",
      " [ 0.54657699]\n",
      " [-1.09571174]]\n",
      "小D会去旅游的概率为:\n",
      " [[0.63334106]]\n"
     ]
    }
   ],
   "source": [
    "from numpy import array, exp, random, dot #引入库类\n",
    "\n",
    "X = array([[0,0,0],[1,1,0],[1,0,1],[0,0,1]])#然后创建一个矩阵X,将小A、小B、小C三个人前4次的数据放到矩阵中去;\n",
    "                                                    #创建一个装置矩阵y，将小D前五次的数据放到矩阵中去。\n",
    "                                                    #注意矩阵X是3x5的，所以这里需要将1x5的矩阵y转置一下成5x1的矩阵，才能进行矩阵运算。\n",
    "y = array([[1,1,0,0]]).T\n",
    "random.seed(1)                                      #下面利用随机数做一个假设，假设小D去不去旅游与小A、小B、小C三人去不去旅游的相关关系的数值(权重)为weights。\n",
    "weights = 2 * random.random((3,1))-1\n",
    "for it in range(10000):\n",
    "    output = 1/(1+exp(-dot(X,weights)))\n",
    "    error  = y-output\n",
    "    delta  = error*output *(1-output)  \n",
    "weights += dot(X.T,delta)\n",
    "print(\"误差为:\\n\", error)\n",
    "print(\"相关系数为:\\n\", weights)\n",
    "probability=1/(1+ exp(- dot([[0,1,0]], weights)))\n",
    "print(\"小D会去旅游的概率为:\\n\", probability)\n"
   ]
  },
  {
   "cell_type": "code",
   "execution_count": null,
   "id": "4d99e1fb",
   "metadata": {},
   "outputs": [],
   "source": []
  },
  {
   "cell_type": "code",
   "execution_count": null,
   "id": "929f1e37",
   "metadata": {},
   "outputs": [],
   "source": []
  }
 ],
 "metadata": {
  "kernelspec": {
   "display_name": "Python 3 (ipykernel)",
   "language": "python",
   "name": "python3"
  },
  "language_info": {
   "codemirror_mode": {
    "name": "ipython",
    "version": 3
   },
   "file_extension": ".py",
   "mimetype": "text/x-python",
   "name": "python",
   "nbconvert_exporter": "python",
   "pygments_lexer": "ipython3",
   "version": "3.9.13"
  }
 },
 "nbformat": 4,
 "nbformat_minor": 5
}
